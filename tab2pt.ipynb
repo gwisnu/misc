{
  "nbformat": 4,
  "nbformat_minor": 0,
  "metadata": {
    "colab": {
      "name": "tab2pt.ipynb",
      "provenance": [],
      "collapsed_sections": []
    },
    "kernelspec": {
      "name": "python3",
      "display_name": "Python 3"
    },
    "language_info": {
      "name": "python"
    }
  },
  "cells": [
    {
      "cell_type": "code",
      "execution_count": 10,
      "metadata": {
        "id": "wFe4asm7NuEl"
      },
      "outputs": [],
      "source": [
        "import pandas as pd\n",
        "def ptr2point(excel,area):\n",
        "\n",
        "  if area == 'paringin':\n",
        "    mitra = 'BUMA'\n",
        "    sheet = 'COAL BUMA'\n",
        "    skip = 7\n",
        "    column_no = [0,1,2,3,4,5,6,7,8,9,10,11,12,13,14,15,16,17,18,19,20,21]\n",
        "    nama_field = ['date','class_unit','bdy_plan_weekly','bdy_plan_monthly','unit','seam_detail','seam','series','lp_n','lp_e','lp_z','dp_n','dp_e','dp_z','rom','access','highest','lowest','v_dist','st_dist','hz_dist','truck_count']\n",
        "  if area  == 'south':\n",
        "    sheet='COAL BUMA'\n",
        "    mitra = 'BUMA'\n",
        "    skip=8\n",
        "    column_no = [0,1,2,3,4,5,6,7,8,9,10,11,12,13,14,15,16,17,18,19,20,21]\n",
        "    nama_field = ['date','class_unit','bdy_plan_weekly','bdy_plan_monthly','unit','seam_detail','seam','series','lp_n','lp_e','lp_z','dp_n','dp_e','dp_z','rom','access','highest','lowest','v_dist','st_dist','hz_dist','truck_count']\n",
        "  if area  == 'wara':\n",
        "    sheet='COAL WARA'\n",
        "    mitra = 'SIS'\n",
        "    skip=5\n",
        "    column_no = [0,1,2,3,4,5,6,7,8,9,10,11,12,15,17,18]\n",
        "    nama_field = ['date','seam','series','bdy_plan','unit','lp_n','lp_e','lp_z','dp_n','dp_e','dp_z','rom','access','v_dist','hz_dist','truck_count']\n",
        "  if area  == 'central':\n",
        "    sheet='COAL CT'\n",
        "    mitra = 'SIS'\n",
        "    skip=5\n",
        "    column_no = [0,1,2,4,5,6,7,8,9,10,11,12,13,16,18,51]\n",
        "    nama_field = ['date','seam','series','unit','lp_n','lp_e','lp_z','bdy_plan','dp_n','dp_e','dp_z','rom','access','v_dist','hz_dist','truck_count']\n",
        "\n",
        "  df_ptr = pd.read_excel(excel, sheet, skiprows=skip, usecols=column_no, header=0)\n",
        "  df_ptr.columns = nama_field\n",
        "  df_ptr = df_ptr.dropna(subset=['date'])\n",
        "  df_ptr['week'] = (df_ptr['date']- pd.DateOffset(days=1)).dt.isocalendar().week #add week column\n",
        "  df_ptr['unit'] = df_ptr.unit.str.strip()\n",
        "  df_ptr['unit'] = df_ptr.unit.str[:2] + '-' + df_ptr.unit.str[-2:] #remove -00 from unit\n",
        "  df_ptr.fillna(0,inplace=True)\n",
        "  df_ptr['vol_hd'] = df_ptr['hz_dist'] * df_ptr['truck_count']\n",
        "  df_ptr['vol_vd'] = df_ptr['v_dist'] * df_ptr['truck_count']\n",
        "  df_ptr['hz_dist_mtd'] = df_ptr['vol_hd'].cumsum()/df_ptr['truck_count'].cumsum()\n",
        "  df_ptr['v_dist_mtd'] = df_ptr['vol_vd'].cumsum()/df_ptr['truck_count'].cumsum()\n",
        "  df_ptr['pit'] = area\n",
        "  df_ptr['mitra kerja'] = mitra\n",
        "  last_update = df_ptr['date'].max().strftime('%y%m%d')\n",
        "  df_ptr[['date','unit','seam','series','lp_n','lp_e','lp_z','rom','access','v_dist','hz_dist','truck_count','pit','mitra kerja']].to_csv('coal_ptr_'+area+'_'+last_update+'.csv', index=True, index_label='id')\n",
        "  csvt_txt = \"\\\"Integer\\\",\\\"Date\\\",\\\"String\\\",\\\"String\\\",\\\"String\\\",\\\"CoordY\\\",\\\"CoordX\\\",\\\"Real\\\",\\\"String\\\",\\\"String\\\",\\\"Real\\\",\\\"Real\\\",\\\"Real\\\",\\\"String\\\",\\\"String\\\"\"\n",
        "  csvt_file = open('coal_ptr_'+area+'_'+last_update+'.csvt', \"w\")\n",
        "  n = csvt_file.write(csvt_txt)\n",
        "  csvt_file.close()\n",
        "\n",
        "  print('Selesai, silakan cek file untuk download')"
      ]
    },
    {
      "cell_type": "code",
      "source": [
        "!pip install pyproj\n",
        "import math\n",
        "from pyproj import Proj\n",
        "\n",
        "UTM50s = Proj('+proj=utm +zone=50 +south +ellps=WGS84 +datum=WGS84 +units=m +no_defs')\n",
        "#parameter site calibration Tutupan\n",
        "rot,dx,dy,sf,ox,oy,olocx,olocy = 57.26, -330718.744,-9748020.012, 1.00008025, 334759.446 ,9757090.68,4040.702,9070.668\n",
        "rot_p,dx_p,dy_p,sf_p,ox_p,oy_p,olocx_p,olocy_p = 23.05789276,\t-331701.558,\t-9741692.346,\t1.000039197,\t332681.896,\t9746705.39,\t980.338,\t5013.044\n",
        "\n",
        "\n",
        "def Ttp2Lon(easting,northing):\n",
        "    x1 = (easting-olocx)/sf+olocx\n",
        "    y1 = (northing-olocy)/sf+olocy\n",
        "    x2 = x1-dx\n",
        "    y2 = y1-dy\n",
        "    x3 = (x2-ox)*math.cos(math.radians(-rot)) - (y2-oy)*math.sin(math.radians(-rot)) + ox\n",
        "    y3 = (y2-oy)*math.cos(math.radians(-rot)) + (x2-ox)*math.sin(math.radians(-rot)) + oy\n",
        "    geo = UTM50s(x3,y3,inverse=True)\n",
        "    return geo[0]\n",
        "def Ttp2Lat(easting,northing):\n",
        "    x1 = (easting-olocx)/sf+olocx\n",
        "    y1 = (northing-olocy)/sf+olocy\n",
        "    x2 = x1-dx\n",
        "    y2 = y1-dy\n",
        "    x3 = (x2-ox)*math.cos(math.radians(-rot)) - (y2-oy)*math.sin(math.radians(-rot)) + ox\n",
        "    y3 = (y2-oy)*math.cos(math.radians(-rot)) + (x2-ox)*math.sin(math.radians(-rot)) + oy\n",
        "    geo = UTM50s(x3,y3,inverse=True)\n",
        "    return geo[1]\n",
        "\n",
        "def Ttp2Geo(easting,northing):\n",
        "    x1 = (easting-olocx)/sf+olocx\n",
        "    y1 = (northing-olocy)/sf+olocy\n",
        "    x2 = x1-dx\n",
        "    y2 = y1-dy\n",
        "    x3 = (x2-ox)*math.cos(math.radians(-rot)) - (y2-oy)*math.sin(math.radians(-rot)) + ox\n",
        "    y3 = (y2-oy)*math.cos(math.radians(-rot)) + (x2-ox)*math.sin(math.radians(-rot)) + oy\n",
        "    geo = UTM50s(x3,y3,inverse=True)\n",
        "    return geo\n",
        "\n",
        "def Prg2Geo(easting,northing):\n",
        "    x1 = (easting-olocx_p)/sf_p+olocx_p\n",
        "    y1 = (northing-olocy_p)/sf_p+olocy_p\n",
        "    x2 = x1-dx_p\n",
        "    y2 = y1-dy_p\n",
        "    x3 = (x2-ox_p)*math.cos(math.radians(-rot_p)) - (y2-oy_p)*math.sin(math.radians(-rot_p)) + ox_p\n",
        "    y3 = (y2-oy_p)*math.cos(math.radians(-rot_p)) + (x2-ox_p)*math.sin(math.radians(-rot_p)) + oy_p\n",
        "    geo = UTM50s(x3,y3,inverse=True)\n",
        "    return geo"
      ],
      "metadata": {
        "colab": {
          "base_uri": "https://localhost:8080/"
        },
        "id": "H-3X_ifcWJcE",
        "outputId": "7138f869-d06c-49ee-e57a-d0384ca4943a"
      },
      "execution_count": 11,
      "outputs": [
        {
          "output_type": "stream",
          "name": "stdout",
          "text": [
            "Requirement already satisfied: pyproj in /usr/local/lib/python3.7/dist-packages (3.2.1)\n",
            "Requirement already satisfied: certifi in /usr/local/lib/python3.7/dist-packages (from pyproj) (2021.10.8)\n"
          ]
        }
      ]
    },
    {
      "cell_type": "code",
      "source": [
        "Prg2Geo(5200,100)"
      ],
      "metadata": {
        "colab": {
          "base_uri": "https://localhost:8080/"
        },
        "id": "XFUB7ZGnXCgj",
        "outputId": "2664f1e6-4425-4810-e050-262d5e1a052a"
      },
      "execution_count": 12,
      "outputs": [
        {
          "output_type": "execute_result",
          "data": {
            "text/plain": [
              "(115.51288114773563, -2.346676346571078)"
            ]
          },
          "metadata": {},
          "execution_count": 12
        }
      ]
    }
  ]
}

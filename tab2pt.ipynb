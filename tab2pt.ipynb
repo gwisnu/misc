{
  "nbformat": 4,
  "nbformat_minor": 0,
  "metadata": {
    "colab": {
      "name": "tab2pt.ipynb",
      "provenance": []
    },
    "kernelspec": {
      "name": "python3",
      "display_name": "Python 3"
    },
    "language_info": {
      "name": "python"
    }
  },
  "cells": [
    {
      "cell_type": "code",
      "execution_count": null,
      "metadata": {
        "id": "wFe4asm7NuEl"
      },
      "outputs": [],
      "source": [
        "import pandas as pd\n",
        "def ptr2point(excel,area):\n",
        "\n",
        "  if area == 'paringin':\n",
        "    mitra = 'BUMA'\n",
        "    sheet = 'COAL BUMA'\n",
        "    skip = 7\n",
        "    column_no = [0,1,2,3,4,5,6,7,8,9,10,11,12,13,14,15,16,17,18,19,20,21]\n",
        "    nama_field = ['date','class_unit','bdy_plan_weekly','bdy_plan_monthly','unit','seam_detail','seam','series','lp_n','lp_e','lp_z','dp_n','dp_e','dp_z','rom','access','highest','lowest','v_dist','st_dist','hz_dist','truck_count']\n",
        "  if area  == 'south':\n",
        "    sheet='COAL BUMA'\n",
        "    mitra = 'BUMA'\n",
        "    skip=8\n",
        "    column_no = [0,1,2,3,4,5,6,7,8,9,10,11,12,13,14,15,16,17,18,19,20,21,34]\n",
        "    nama_field = ['date','class_unit','bdy_plan_weekly','bdy_plan_monthly','unit','seam_detail','seam','series','lp_n','lp_e','lp_z','dp_n','dp_e','dp_z','rom','access','highest','lowest','v_dist','st_dist','hz_dist','truck_count']\n",
        "  if area  == 'wara':\n",
        "    sheet='COAL WARA'\n",
        "    mitra = 'SIS'\n",
        "    skip=5\n",
        "    column_no = [0,1,2,3,4,5,6,7,8,9,10,11,12,15,17,18]\n",
        "    nama_field = ['date','seam','series','bdy_plan','unit','lp_n','lp_e','lp_z','dp_n','dp_e','dp_z','rom','access','v_dist','hz_dist','truck_count']\n",
        "  if area  == 'central':\n",
        "    sheet='COAL CT'\n",
        "    mitra = 'SIS'\n",
        "    skip=5\n",
        "    column_no = [0,1,2,4,5,6,7,8,9,10,11,12,13,16,18,51]\n",
        "    nama_field = ['date','seam','series','unit','lp_n','lp_e','lp_z','bdy_plan','dp_n','dp_e','dp_z','rom','access','v_dist','hz_dist','truck_count']\n",
        "\n",
        "  df_ptr = pd.read_excel(excel, sheet, skiprows=skip, usecols=column_no, header=0)\n",
        "  df_ptr.columns = nama_field\n",
        "  df_ptr = df_ptr.dropna(subset=['date'])\n",
        "  df_ptr['week'] = (df_ptr['date']- pd.DateOffset(days=1)).dt.isocalendar().week #add week column\n",
        "  df_ptr['unit'] = df_ptr.unit.str.strip()\n",
        "  df_ptr['unit'] = df_ptr.unit.str[:2] + '-' + df_ptr.unit.str[-2:] #remove -00 from unit\n",
        "  df_ptr.fillna(0,inplace=True)\n",
        "  df_ptr['vol_hd'] = df_ptr['hz_dist'] * df_ptr['truck_count']\n",
        "  df_ptr['vol_vd'] = df_ptr['v_dist'] * df_ptr['truck_count']\n",
        "  df_ptr['hz_dist_mtd'] = df_ptr['vol_hd'].cumsum()/df_ptr['truck_count'].cumsum()\n",
        "  df_ptr['v_dist_mtd'] = df_ptr['vol_vd'].cumsum()/df_ptr['truck_count'].cumsum()\n",
        "  df_ptr['pit'] = area\n",
        "  df_ptr['mitra kerja'] = mitra\n",
        "  last_update = df_ptr['date'].max().strftime('%y%m%d')\n",
        "  df_ptr[['date','unit','seam','series','lp_n','lp_e','lp_z','rom','access','v_dist','hz_dist','truck_count','pit','mitra kerja']].to_csv('coal_ptr_'+area+'_'+last_update+'.csv', index=True, index_label='id')\n",
        "  csvt_txt = \"\\\"Integer\\\",\\\"Date\\\",\\\"String\\\",\\\"String\\\",\\\"String\\\",\\\"CoordY\\\",\\\"CoordX\\\",\\\"Real\\\",\\\"String\\\",\\\"String\\\",\\\"Real\\\",\\\"Real\\\",\\\"Real\\\",\\\"String\\\",\\\"String\\\"\"\n",
        "  csvt_file = open('coal_ptr_'+area+'_'+last_update+'.csvt', \"w\")\n",
        "  n = csvt_file.write(csvt_txt)\n",
        "  csvt_file.close()\n",
        "  \n",
        "  print('Selesai, silakan cek file untuk download')"
      ]
    }
  ]
}
